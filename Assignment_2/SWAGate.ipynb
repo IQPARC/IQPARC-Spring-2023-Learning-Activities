{
 "cells": [
  {
   "attachments": {},
   "cell_type": "markdown",
   "metadata": {},
   "source": [
    "# Problem Set - [SWAP Gate](https://qiskit.org/documentation/stubs/qiskit.circuit.library.SwapGate.html)\n",
    "The goal of this problem set is to learn about the usage of the SWAP gate. As the name suggests, the SWAP gate swaps the states of two qubits. The SWAP gate is a two-qubit gate and can be represented as follows:\n",
    "$$\\begin{bmatrix} 1 & 0 & 0 & 0 \\\\ 0 & 0 & 1 & 0 \\\\ 0 & 1 & 0 & 0 \\\\ 0 & 0 & 0 & 1 \\end{bmatrix}$$\n",
    "Of course, you are not required at this point to know about how a matrix works. The SWAP gate is a reversible gate, meaning that it can be undone by applying the same gate again. This is a very useful property of the SWAP gate, as it allows us to undo the effect of the SWAP gate on a quantum state."
   ]
  },
  {
   "attachments": {},
   "cell_type": "markdown",
   "metadata": {},
   "source": [
    "### First, we import the necessary libraries.\n",
    "You should know how to do this by now."
   ]
  },
  {
   "cell_type": "code",
   "execution_count": 3,
   "metadata": {},
   "outputs": [],
   "source": [
    "# Import the necessary libraries\n",
    "# For this one you should also import bloch sphere visualization tools and state vector\n",
    "# If you do not know how to do that please refer to previous assignment"
   ]
  },
  {
   "attachments": {},
   "cell_type": "markdown",
   "metadata": {},
   "source": [
    "### Demo 1: SWAP Gate\n",
    "Let's swap the states between two qubits and visualize them with a bloch sphere. The first qubit will be initialized in the state $|0\\rangle$ and the second qubit will be initialized in the state $|1\\rangle$. After applying the SWAP gate, the first qubit should be in the state $|1\\rangle$ and the second qubit should be in the state $|0\\rangle$."
   ]
  },
  {
   "attachments": {},
   "cell_type": "markdown",
   "metadata": {},
   "source": [
    "#### Before the SWAP gate"
   ]
  },
  {
   "cell_type": "code",
   "execution_count": null,
   "metadata": {},
   "outputs": [],
   "source": [
    "qubit = QuantumRegister(2)\n",
    "circuit = QuantumCircuit(qubit)\n",
    "circuit.initialize('01', qubit)\n",
    "Statevector = Statevector.from_instruction(circuit)\n",
    "plot_bloch_multivector(Statevector)"
   ]
  },
  {
   "attachments": {},
   "cell_type": "markdown",
   "metadata": {},
   "source": [
    "#### After the SWAP gate"
   ]
  },
  {
   "cell_type": "code",
   "execution_count": null,
   "metadata": {},
   "outputs": [],
   "source": [
    "qubit = QuantumRegister(2)\n",
    "circuit = QuantumCircuit(qubit)\n",
    "circuit.initialize('01', qubit)\n",
    "circuit.swap(qubit[0], qubit[1])\n",
    "Statevector = Statevector.from_instruction(circuit)\n",
    "plot_bloch_multivector(Statevector)"
   ]
  },
  {
   "attachments": {},
   "cell_type": "markdown",
   "metadata": {},
   "source": [
    "### Problem 1: SWAP Gate Alternative\n",
    "SWAP Gate is not the only gate that can swap the states of two qubits. There is another gate that can do the same thing. Can you find it? Please only use CNOT gate for this problem. 6 different states will be passed in as test cases, please ensure that your circuit works for all of them.\n",
    "\n",
    "<br>Input: A circuit containing two qubits in different states\n",
    "<br>Output: The same circuit circuit with the state of the two qubits swapped"
   ]
  },
  {
   "cell_type": "code",
   "execution_count": 14,
   "metadata": {},
   "outputs": [],
   "source": [
    "def SWAP(circuit):\n",
    "    # TODO: Implement the SWAP gate"
   ]
  },
  {
   "attachments": {},
   "cell_type": "markdown",
   "metadata": {},
   "source": [
    "### Use the following code block to test your implementation"
   ]
  },
  {
   "cell_type": "code",
   "execution_count": null,
   "metadata": {},
   "outputs": [],
   "source": [
    "def SWAPCheck():\n",
    "    circuit1 = QuantumCircuit(2)\n",
    "    circuit2 = QuantumCircuit(2)\n",
    "    circuit3 = QuantumCircuit(2)\n",
    "    circuit4 = QuantumCircuit(2)\n",
    "    circuit1.initialize('01', [0, 1])\n",
    "    circuit2.initialize('+-', [0, 1])\n",
    "    circuit3.initialize('lr', [0, 1])\n",
    "    circuit4.initialize('11', [0, 1])\n",
    "    circuit1 = SWAP(circuit1)\n",
    "    circuit2 = SWAP(circuit2)\n",
    "    circuit3 = SWAP(circuit3)\n",
    "    circuit4 = SWAP(circuit4)\n",
    "    if (Statevector.from_instruction(circuit1) == Statevector.from_label('10')) and (Statevector.from_instruction(circuit2) == Statevector.from_label('-+')) and (Statevector.from_instruction(circuit3) == Statevector.from_label('rl')) and (Statevector.from_instruction(circuit4) == Statevector.from_label('11')):\n",
    "        print(\"SWAP is correct\")\n",
    "    else:\n",
    "        print(\"SWAP is incorrect\")\n",
    "SWAPCheck()"
   ]
  }
 ],
 "metadata": {
  "kernelspec": {
   "display_name": "Python 3",
   "language": "python",
   "name": "python3"
  },
  "language_info": {
   "codemirror_mode": {
    "name": "ipython",
    "version": 3
   },
   "file_extension": ".py",
   "mimetype": "text/x-python",
   "name": "python",
   "nbconvert_exporter": "python",
   "pygments_lexer": "ipython3",
   "version": "3.11.1"
  },
  "orig_nbformat": 4,
  "vscode": {
   "interpreter": {
    "hash": "9dfd9ebe24fa0969d7ef00f868bd8f73af66f69d5ca5032d10e37f729c9dd31d"
   }
  }
 },
 "nbformat": 4,
 "nbformat_minor": 2
}
