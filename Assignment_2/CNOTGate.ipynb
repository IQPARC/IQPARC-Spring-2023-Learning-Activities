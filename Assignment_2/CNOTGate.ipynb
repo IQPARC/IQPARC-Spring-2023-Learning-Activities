{
 "cells": [
  {
   "attachments": {},
   "cell_type": "markdown",
   "metadata": {},
   "source": [
    "# Problem Set - [CNOT Gate](https://qiskit.org/documentation/stubs/qiskit.circuit.QuantumCircuit.cnot.html)\n",
    "The goal of this problem set is to learn about the usage of the CNOT/cx gate.\n",
    "The CNOT gate is a conditional gate, which means that it only acts on the second qubit if the first qubit is in state $|1\\rangle$. For additional details, you can read section 2.2.3.1 in the qiskit [textook](https://qiskit.org/textbook/ch-gates/multiple-qubits-entangled-states.html#cnot)."
   ]
  },
  {
   "attachments": {},
   "cell_type": "markdown",
   "metadata": {},
   "source": [
    "### First, we import the necessary libraries.\n",
    "You should know how to do this by now."
   ]
  },
  {
   "cell_type": "code",
   "execution_count": 1,
   "metadata": {},
   "outputs": [],
   "source": [
    "# Import the necessary libraries"
   ]
  },
  {
   "attachments": {},
   "cell_type": "markdown",
   "metadata": {},
   "source": [
    "### Demo 1: The CNOT gate\n",
    "Let's begin by looking at how the CNOT gate works. We will use the `cx` function but you may also use the `cnot` function. Run the following code block to see it in action."
   ]
  },
  {
   "cell_type": "code",
   "execution_count": null,
   "metadata": {},
   "outputs": [],
   "source": [
    "def cnot(state):\n",
    "    # initialize the quantum circuit\n",
    "    q = QuantumRegister(2)\n",
    "    c = ClassicalRegister(2)\n",
    "    qc = QuantumCircuit(q, c)\n",
    "\n",
    "    # initialize the state\n",
    "    qc.initialize(state, qc.qubits)\n",
    "\n",
    "    # apply the CNOT gate\n",
    "    qc.cx(q[0], q[1])\n",
    "\n",
    "    # measure the qubits\n",
    "    qc.measure(q, c)\n",
    "    backend = Aer.get_backend('qasm_simulator')\n",
    "    job = execute(qc, backend, shots=1024)\n",
    "    result = job.result()\n",
    "    counts = result.get_counts(qc)\n",
    "    return counts\n",
    "\n",
    "print(cnot('00')) # this should be the same as the input\n",
    "print(cnot('01')) # this should produce 11\n",
    "print(cnot('10')) # this should be the same as the input\n",
    "print(cnot('11')) # this should produce 01\n",
    "\n",
    "# draw the circuit\n",
    "qc = QuantumCircuit(QuantumRegister(2))\n",
    "qc.cx(0, 1)\n",
    "qc.draw()"
   ]
  },
  {
   "attachments": {},
   "cell_type": "markdown",
   "metadata": {},
   "source": [
    "The CNOT gate acts similarly to a classical XOR gate where the target qubit is flipped if the control qubit is in state $|1\\rangle$. In our case, the target qubit is the first bit of our input, or q[1]"
   ]
  },
  {
   "attachments": {},
   "cell_type": "markdown",
   "metadata": {},
   "source": [
    "### Problem 1: Bell State\n",
    "Bell state is created when two qubits are made entangled. The four possible bell states can be expressed as follows:\n",
    "$$|\\Phi^+\\rangle = \\frac{1}{\\sqrt{2}}(|00\\rangle + |11\\rangle)$$\n",
    "$$|\\Phi^-\\rangle = \\frac{1}{\\sqrt{2}}(|00\\rangle - |11\\rangle)$$\n",
    "$$|\\Psi^+\\rangle = \\frac{1}{\\sqrt{2}}(|01\\rangle + |10\\rangle)$$\n",
    "$$|\\Psi^-\\rangle = \\frac{1}{\\sqrt{2}}(|01\\rangle - |10\\rangle)$$\n",
    "\n",
    "Let's attempt to create such a state using the CNOT gate. For this problem you should use one CNOT gate and one Hadamard gate. Create a 2 bit classical and quantum register, applying the Hadamard gate to the first qubit. Then apply the CNOT gate to the first and second qubits. Finally, measure the two qubits and return the results.\n",
    "\n",
    "<br>Input: none\n",
    "<br>Output: your function should should return the correct counts object for the circuit"
   ]
  },
  {
   "cell_type": "code",
   "execution_count": 44,
   "metadata": {},
   "outputs": [],
   "source": [
    "def bellState():\n",
    "    # TODO:"
   ]
  },
  {
   "attachments": {},
   "cell_type": "markdown",
   "metadata": {},
   "source": [
    "### Use the following code block to check your implementation\n",
    "For this problem, you should approximately get the following counts:\n",
    "```\n",
    "{'00': 500, '11': 500}\n",
    "```"
   ]
  },
  {
   "cell_type": "code",
   "execution_count": null,
   "metadata": {},
   "outputs": [],
   "source": [
    "print(bellState())\n",
    "\n",
    "if (bellState()['00'] > 450 and bellState()['11'] > 450):\n",
    "    print('You have created a Bell state!')\n",
    "else:\n",
    "    print('Try again')"
   ]
  },
  {
   "attachments": {},
   "cell_type": "markdown",
   "metadata": {},
   "source": [
    "### Problem 2: [GHZ State](https://en.wikipedia.org/wiki/Greenberger%E2%80%93Horne%E2%80%93Zeilinger_state)\n",
    "GHZ state is an entangled state for 3 qubits expressed as:\n",
    "$$|GHZ\\rangle = \\frac{1}{\\sqrt{2}}(|000\\rangle + |111\\rangle)$$\n",
    "\n",
    "We will come back to this state in the future but for now just try to understand how it works. To create this particular state you will need to use 2 CNOT gates and one Hadamard gate. Remember to initialize 3 classical bits and 3 qubits.\n",
    "\n",
    "<br>Input: none\n",
    "<br>Output: your function should should return the correct counts object after simulation for the circuit"
   ]
  },
  {
   "cell_type": "code",
   "execution_count": 53,
   "metadata": {},
   "outputs": [],
   "source": [
    "def GHZState():\n",
    "    # TODO:"
   ]
  },
  {
   "attachments": {},
   "cell_type": "markdown",
   "metadata": {},
   "source": [
    "### Use the following code block to check your implementation\n",
    "For this problem, you should approximately get the following counts:\n",
    "```\n",
    "{'000': 500, '111': 500}\n",
    "```"
   ]
  },
  {
   "cell_type": "code",
   "execution_count": null,
   "metadata": {},
   "outputs": [],
   "source": [
    "print(GHZState())\n",
    "\n",
    "if (GHZState()['000'] > 450 and GHZState()['111'] > 450):\n",
    "    print('You have created a Bell state!')\n",
    "else:\n",
    "    print('Try again')"
   ]
  }
 ],
 "metadata": {
  "kernelspec": {
   "display_name": "Python 3",
   "language": "python",
   "name": "python3"
  },
  "language_info": {
   "codemirror_mode": {
    "name": "ipython",
    "version": 3
   },
   "file_extension": ".py",
   "mimetype": "text/x-python",
   "name": "python",
   "nbconvert_exporter": "python",
   "pygments_lexer": "ipython3",
   "version": "3.10.0"
  },
  "orig_nbformat": 4,
  "vscode": {
   "interpreter": {
    "hash": "52634da84371cba311ea128a5ea7cdc41ff074b781779e754b270ff9f8153cee"
   }
  }
 },
 "nbformat": 4,
 "nbformat_minor": 2
}
