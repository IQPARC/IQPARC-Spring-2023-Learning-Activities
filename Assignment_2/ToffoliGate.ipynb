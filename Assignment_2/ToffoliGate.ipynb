{
 "cells": [
  {
   "attachments": {},
   "cell_type": "markdown",
   "metadata": {},
   "source": [
    "# Problem Set - [Toffoli Gate](https://qiskit.org/documentation/stubs/qiskit.circuit.library.CCXGate.html)\n",
    "The goat of this problem set is to learn about the usage of the Toffoli gate.\n",
    "The Toffoli gate is a three-qubit gate with two controls and one target. It performs an X on the target only if both controls are in the state $|1\\rangle$. The final state of the target is then equal to either the AND or the NAND of the two controls, depending on whether the initial state of the target was $|0\\rangle$ or $|1\\rangle$ . A Toffoli can also be thought of as a controlled-controlled-NOT, and is also called the CCX gate."
   ]
  },
  {
   "attachments": {},
   "cell_type": "markdown",
   "metadata": {},
   "source": [
    "### First, we import the necessary libraries.\n",
    "You should know how to do this by now."
   ]
  },
  {
   "cell_type": "code",
   "execution_count": 5,
   "metadata": {},
   "outputs": [],
   "source": [
    "# Import the necessary libraries"
   ]
  },
  {
   "attachments": {},
   "cell_type": "markdown",
   "metadata": {},
   "source": [
    "### Demo 1: The Toffoli gate\n",
    "Let's begin by looking at how the Toofoli gate works. We will use the `toffoli` function but you may also use the `ccx` function. Run the following code block to see it in action."
   ]
  },
  {
   "cell_type": "code",
   "execution_count": null,
   "metadata": {},
   "outputs": [],
   "source": [
    "def toffoli(q0, q1, q2):\n",
    "    # initialize the quantum circuit\n",
    "    q = QuantumRegister(3)\n",
    "    c = ClassicalRegister(3)\n",
    "    qc = QuantumCircuit(q, c)\n",
    "\n",
    "    # initialize the qubits\n",
    "    state = str(q0) + str(q1) + str(q2)\n",
    "    qc.initialize(state, qc.qubits)\n",
    "\n",
    "    # apply the Toffoli gate\n",
    "    # in this case, q[0] is the target qubit\n",
    "    # you can also use qc.ccx(q[1], q[2], q[0])\n",
    "    qc.toffoli(q[0], q[1], q[2])\n",
    "\n",
    "    # measure the qubits\n",
    "    qc.measure(q, c)\n",
    "    backend = Aer.get_backend('qasm_simulator')\n",
    "    job = execute(qc, backend, shots=1024)\n",
    "    result = job.result()\n",
    "    counts = result.get_counts(qc)\n",
    "    return counts\n",
    "\n",
    "# test the Toffoli gate\n",
    "print(\"This should equal (000): \" + str(toffoli(0, 0, 0)))\n",
    "print(\"This should equal (001): \" + str(toffoli(0, 0, 1)))\n",
    "print(\"This should equal (010): \" + str(toffoli(0, 1, 0)))\n",
    "print(\"This should equal (111): \" + str(toffoli(0, 1, 1)))\n",
    "print(\"This should equal (011): \" + str(toffoli(1, 1, 1)))\n",
    "\n",
    "# As you can see, the target qubit is flipped if both control qubits are in the state $|1\\rangle$."
   ]
  },
  {
   "attachments": {},
   "cell_type": "markdown",
   "metadata": {},
   "source": [
    "### Demo 2: Multi-Controlled Toffoli\n",
    "This is the similar to the previous demo, but with three control qubits. We will be using the [mct](https://qiskit.org/documentation/stubs/qiskit.circuit.QuantumCircuit.mct.html) function on the quantum circuit. Run the following code block to see it in action."
   ]
  },
  {
   "cell_type": "code",
   "execution_count": null,
   "metadata": {},
   "outputs": [],
   "source": [
    "def mToffoli(q0, q1, q2, q3):\n",
    "    # initialize the quantum circuit\n",
    "    q = QuantumRegister(4)\n",
    "    c = ClassicalRegister(4)\n",
    "    qc = QuantumCircuit(q, c)\n",
    "\n",
    "    # initialize the qubits\n",
    "    state = str(q0) + str(q1) + str(q2) + str(q3)\n",
    "    qc.initialize(state, qc.qubits)\n",
    "\n",
    "    # apply the mct gate\n",
    "    qc.mct([0, 1, 2], 3)\n",
    "\n",
    "    # measure the qubits\n",
    "    qc.measure(q, c)\n",
    "    backend = Aer.get_backend('qasm_simulator')\n",
    "    job = execute(qc, backend, shots=1024)\n",
    "    result = job.result()\n",
    "    counts = result.get_counts(qc)\n",
    "    return counts\n",
    "\n",
    "# test the Toffoli gate\n",
    "print(\"This should equal (0000): \" + str(mToffoli(0, 0, 0, 0)))\n",
    "print(\"This should equal (0010): \" + str(mToffoli(0, 0, 1 ,0)))\n",
    "print(\"This should equal (0100): \" + str(mToffoli(0, 1, 0, 0)))\n",
    "print(\"This should equal (1111): \" + str(mToffoli(0, 1, 1, 1)))\n",
    "print(\"This should equal (0111): \" + str(mToffoli(1, 1, 1, 1)))"
   ]
  },
  {
   "attachments": {},
   "cell_type": "markdown",
   "metadata": {},
   "source": [
    "As you can see, the target qubit is flipped if and only if all three control qubits are in the state $|1\\rangle$."
   ]
  },
  {
   "attachments": {},
   "cell_type": "markdown",
   "metadata": {},
   "source": [
    "### Problem 1: Multi-Qubit Toffoli\n",
    "For this problem you will be using the `mct` function to create a 5 qubit Toffoli circuit where the first 4 qubits are used as control while the last qubit is the target.\n",
    "\n",
    "<br>Input: you will receive 5 bits as input, please initialize the circuit with these 5 bits as qubit states\n",
    "<br>Output: your function should should return the correct counts object for the circuit"
   ]
  },
  {
   "cell_type": "code",
   "execution_count": 2,
   "metadata": {},
   "outputs": [],
   "source": [
    "def fiveBitToffoli(bit1, bit2, bit3, bit4, bit5):\n",
    "    # TODO:"
   ]
  },
  {
   "attachments": {},
   "cell_type": "markdown",
   "metadata": {},
   "source": [
    "### Use the following code block to check your implementation"
   ]
  },
  {
   "cell_type": "code",
   "execution_count": null,
   "metadata": {},
   "outputs": [],
   "source": [
    "def fbtCheck():\n",
    "    for i in range(0, 32):\n",
    "        bit1 = i & 1\n",
    "        bit2 = (i >> 1) & 1\n",
    "        bit3 = (i >> 2) & 1\n",
    "        bit4 = (i >> 3) & 1\n",
    "        bit5 = (i >> 4) & 1\n",
    "\n",
    "        if list(fiveBitToffoli(bit1, bit2, bit3, bit4, bit5))[0][0][0] == '0' and bit1 == 0 and bit2 == 1 and bit3 == 1 and bit4 == 1 and bit5 == 1:\n",
    "            print(\"ERROR: Issue with input \" + str(bit1) + str(bit2) + str(bit3) + str(bit4) + str(bit5))\n",
    "            print(\"Bit at index 0 should be 1\")\n",
    "            return -1\n",
    "        elif list(fiveBitToffoli(bit1, bit2, bit3, bit4, bit5))[0][0][0] == '1' and bit1 == 1 and bit2 == 1 and bit3 == 1 and bit4 == 1 and bit5 == 1:\n",
    "            print(\"ERROR: Issue with input \" + str(bit1) + str(bit2) + str(bit3) + str(bit4) + str(bit5))\n",
    "            print(\"Bit at index 0 should be 0\")\n",
    "            return -1\n",
    "    return 0\n",
    "\n",
    "if fbtCheck() == 0:\n",
    "    print(\"All tests passed!\")"
   ]
  }
 ],
 "metadata": {
  "kernelspec": {
   "display_name": "Python 3",
   "language": "python",
   "name": "python3"
  },
  "language_info": {
   "codemirror_mode": {
    "name": "ipython",
    "version": 3
   },
   "file_extension": ".py",
   "mimetype": "text/x-python",
   "name": "python",
   "nbconvert_exporter": "python",
   "pygments_lexer": "ipython3",
   "version": "3.10.0"
  },
  "orig_nbformat": 4,
  "vscode": {
   "interpreter": {
    "hash": "52634da84371cba311ea128a5ea7cdc41ff074b781779e754b270ff9f8153cee"
   }
  }
 },
 "nbformat": 4,
 "nbformat_minor": 2
}
