{
 "cells": [
  {
   "attachments": {},
   "cell_type": "markdown",
   "metadata": {},
   "source": [
    "# Problem Set - Logic Gate Replication\n",
    "The goat of this project is to recreate classical computational logic gates using quantum circuits. At the end you will be tasked with creating a half adder circuit."
   ]
  },
  {
   "attachments": {},
   "cell_type": "markdown",
   "metadata": {},
   "source": [
    "### First, we import the necessary libraries.\n",
    "You should know how to do this by now."
   ]
  },
  {
   "cell_type": "code",
   "execution_count": 1,
   "metadata": {},
   "outputs": [],
   "source": [
    "# Import the necessary libraries"
   ]
  },
  {
   "attachments": {},
   "cell_type": "markdown",
   "metadata": {},
   "source": [
    "### Problem 1: XOR Gate\n",
    "First we will create a circuit that implements the XOR gate. This gate is the simplest logic gate to recreate as it only requires a single [CNOT](https://qiskit.org/documentation/stubs/qiskit.circuit.QuantumCircuit.cnot.html) gate. Please use qubit 1 as your target qubit.\n",
    "\n",
    "<br>Input: you will receive two bits as input, please initialize the circuit with these two bits as qubit states\n",
    "<br>Output: your function should should return a single classical bit as output"
   ]
  },
  {
   "cell_type": "code",
   "execution_count": 2,
   "metadata": {},
   "outputs": [],
   "source": [
    "def xorGate(bit1, bit2):\n",
    "    # initialize the quantum circuit\n",
    "    q = QuantumRegister(2)\n",
    "    c = ClassicalRegister(2)\n",
    "    qc = QuantumCircuit(q, c)\n",
    "\n",
    "    # TODO:\n",
    "\n",
    "    # this part has already been done for you\n",
    "    qc.measure(q, c)\n",
    "    backend = Aer.get_backend('qasm_simulator')\n",
    "    job = execute(qc, backend, shots=1024)\n",
    "    result = job.result()\n",
    "    counts = result.get_counts(qc)\n",
    "    return list(counts.items())[0][0][0]"
   ]
  },
  {
   "attachments": {},
   "cell_type": "markdown",
   "metadata": {},
   "source": [
    "#### Use the following code to test your implementation of the XOR gate."
   ]
  },
  {
   "cell_type": "code",
   "execution_count": null,
   "metadata": {},
   "outputs": [],
   "source": [
    "def xorGateTest():\n",
    "    print(\"Testing XOR gate...\")\n",
    "    print(\"0 XOR 0 = \" + xorGate(0, 0))\n",
    "    print(\"0 XOR 1 = \" + xorGate(0, 1))\n",
    "    print(\"1 XOR 0 = \" + xorGate(1, 0))\n",
    "    print(\"1 XOR 1 = \" + xorGate(1, 1))\n",
    "\n",
    "    if xorGate(0, 0) == '0' and xorGate(0, 1) == '1' and xorGate(1, 0) == '1' and xorGate(1, 1) == '0':\n",
    "        print(\"Test passed!\")\n",
    "    else:\n",
    "        print(\"Test failed.\")\n",
    "\n",
    "xorGateTest()"
   ]
  },
  {
   "attachments": {},
   "cell_type": "markdown",
   "metadata": {},
   "source": [
    "### Problem 2: AND Gate\n",
    "Next we will create a circuit that implements the AND gate. This gate is a bit more complicated than the XOR gate as it requires the use of [Toffoli](https://qiskit.org/documentation/stubs/qiskit.circuit.QuantumCircuit.toffoli.html) gates and one additional target qubit. Please use qubit 2 as your target qubit.\n",
    "\n",
    "<br>Input: you will receive two bits as input, please initialize the circuit with these two bits as qubit states\n",
    "<br>Output: your function should should return a single classical bit as output"
   ]
  },
  {
   "cell_type": "code",
   "execution_count": 68,
   "metadata": {},
   "outputs": [],
   "source": [
    "def andGate(bit1, bit2):\n",
    "    # initialize the quantum circuit\n",
    "    q = QuantumRegister(3)\n",
    "    c = ClassicalRegister(3)\n",
    "    qc = QuantumCircuit(q, c)\n",
    "\n",
    "    # TODO: implement the AND gate\n",
    "\n",
    "    # this part has already been done for you\n",
    "    qc.measure(q, c)\n",
    "    backend = Aer.get_backend('qasm_simulator')\n",
    "    job = execute(qc, backend, shots=1024)\n",
    "    result = job.result()\n",
    "    counts = result.get_counts(qc)\n",
    "    return list(counts.items())[0][0][0]"
   ]
  },
  {
   "attachments": {},
   "cell_type": "markdown",
   "metadata": {},
   "source": [
    "#### Use the following code to test your implementation of the AND gate."
   ]
  },
  {
   "cell_type": "code",
   "execution_count": null,
   "metadata": {},
   "outputs": [],
   "source": [
    "def andGateTest():\n",
    "    print(\"Testing AND gate...\")\n",
    "    print(\"0 AND 0 = \" + andGate(0, 0))\n",
    "    print(\"0 AND 1 = \" + andGate(0, 1))\n",
    "    print(\"1 AND 0 = \" + andGate(1, 0))\n",
    "    print(\"1 AND 1 = \" + andGate(1, 1))\n",
    "\n",
    "    if andGate(0, 0) == '0' and andGate(0, 1) == '0' and andGate(1, 0) == '0' and andGate(1, 1) == '1':\n",
    "        print(\"Test passed!\")\n",
    "    else:\n",
    "        print(\"Test failed.\")\n",
    "\n",
    "andGateTest()"
   ]
  },
  {
   "attachments": {},
   "cell_type": "markdown",
   "metadata": {},
   "source": [
    "### Problem 3: NAND Gate\n",
    "Next we will create a circuit that implements the NAND gate. This gate is similar to the AND gate, but it requires an additional NOT gate at the end. To do this, you will need to use a Pauli gate as well as the [Toffoli](https://qiskit.org/documentation/stubs/qiskit.circuit.QuantumCircuit.toffoli.html) gate. Please use qubit 2 as your target qubit.\n",
    "\n",
    "<br>Input: you will receive two bits as input, please initialize the circuit with these two bits as qubit states\n",
    "<br>Output: your function should should return a single classical bit as output"
   ]
  },
  {
   "cell_type": "code",
   "execution_count": 1,
   "metadata": {},
   "outputs": [],
   "source": [
    "def nandGate(bit1, bit2):\n",
    "    # initialize the quantum circuit\n",
    "    q = QuantumRegister(3)\n",
    "    c = ClassicalRegister(3)\n",
    "    qc = QuantumCircuit(q, c)\n",
    "\n",
    "    # TODO: implement the AND gate\n",
    "\n",
    "    # this part has already been done for you\n",
    "    qc.measure(q, c)\n",
    "    backend = Aer.get_backend('qasm_simulator')\n",
    "    job = execute(qc, backend, shots=1024)\n",
    "    result = job.result()\n",
    "    counts = result.get_counts(qc)\n",
    "    return list(counts.items())[0][0][0]"
   ]
  },
  {
   "attachments": {},
   "cell_type": "markdown",
   "metadata": {},
   "source": [
    "#### Use the following code to test your implementation of the NAND gate."
   ]
  },
  {
   "cell_type": "code",
   "execution_count": null,
   "metadata": {},
   "outputs": [],
   "source": [
    "def nandGateTest():\n",
    "    print(\"Testing NAND gate...\")\n",
    "    print(\"0 NAND 0 = \" + nandGate(0, 0))\n",
    "    print(\"0 NAND 1 = \" + nandGate(0, 1))\n",
    "    print(\"1 NAND 0 = \" + nandGate(1, 0))\n",
    "    print(\"1 NAND 1 = \" + nandGate(1, 1))\n",
    "\n",
    "    if nandGate(0, 0) == '1' and nandGate(0, 1) == '1' and nandGate(1, 0) == '1' and nandGate(1, 1) == '0':\n",
    "        print(\"Test passed!\")\n",
    "    else:\n",
    "        print(\"Test failed.\")\n",
    "\n",
    "nandGateTest()"
   ]
  },
  {
   "attachments": {},
   "cell_type": "markdown",
   "metadata": {},
   "source": [
    "### Problem 4: Half Adder\n",
    "Lastly we will create the half adder circuit. The purpose of this circuit is to calculate the sum of 2 binary bits where if bit 1 and bit 2 are both 1, the sum will be 0 and the carry will be 1. If either bit 1 or bit 2 is 1, the sum will be 1 and the carry will be 0. If both bits are 0, the sum will be 0 and the carry will be 0. Please look up a diagram if you are confused. You will also be asked to specify which qutbit is the carry bit and sum bit.\n",
    "\n",
    "<br>Input: you will receive two bits as input, please initialize the circuit with these two bits as qubit states\n",
    "<br>Output: your function should should return a two classical bits where one is the sum and the other is the carry"
   ]
  },
  {
   "cell_type": "code",
   "execution_count": 2,
   "metadata": {},
   "outputs": [],
   "source": [
    "def halfAdder(bit1, bit2):\n",
    "    # Create a quantum circuit with 3 qubits and 3 classical bits\n",
    "    q = QuantumRegister(3)\n",
    "    c = ClassicalRegister(3)\n",
    "    qc = QuantumCircuit(q, c)\n",
    "\n",
    "    # TODO: implement the half adder\n",
    "\n",
    "    # This part has already been done for you\n",
    "    qc.measure(q, c)\n",
    "    backend = Aer.get_backend('qasm_simulator')\n",
    "    job = execute(qc, backend, shots=1)\n",
    "    result = job.result()\n",
    "    return result.get_counts(qc)"
   ]
  },
  {
   "attachments": {},
   "cell_type": "markdown",
   "metadata": {},
   "source": [
    "#### Use the following code to test your implementation of the half adder circuit."
   ]
  },
  {
   "cell_type": "code",
   "execution_count": null,
   "metadata": {},
   "outputs": [],
   "source": [
    "def adderTest(sBit, cBit):\n",
    "    if sBit == 0:\n",
    "        sBit = 2\n",
    "    if cBit == 0:\n",
    "        cBit = 2\n",
    "    if sBit == 2:\n",
    "        sBit = 0\n",
    "    if cBit == 2:\n",
    "        cBit = 0\n",
    "    print(\"Testing adder...\")\n",
    "    print(\"0 xor 0 = \" + list(halfAdder(0, 0).items())[0][0][cBit], end = \" \")\n",
    "    print(\"Sum Bit: \" + list(halfAdder(0, 0).items())[0][0][sBit])\n",
    "    print(\"0 xor 1 = \" + list(halfAdder(0, 1).items())[0][0][cBit], end = \" \")\n",
    "    print(\"Sum Bit: \" + list(halfAdder(0, 1).items())[0][0][sBit])\n",
    "    print(\"1 xor 0 = \" + list(halfAdder(1, 0).items())[0][0][cBit], end = \" \")\n",
    "    print(\"Sum Bit: \" + list(halfAdder(1, 0).items())[0][0][sBit])\n",
    "    print(\"1 xor 1 = \" + list(halfAdder(1, 1).items())[0][0][cBit], end = \" \")\n",
    "    print(\"Sum Bit: \" + list(halfAdder(1, 1).items())[0][0][sBit])\n",
    "\n",
    "    if list(halfAdder(0, 0).items())[0][0][cBit] == '0' and list(halfAdder(0, 0).items())[0][0][sBit] == '0' and list(halfAdder(0, 1).items())[0][0][cBit] == '1' and list(halfAdder(0, 1).items())[0][0][sBit] == '0' and list(halfAdder(1, 0).items())[0][0][cBit] == '1' and list(halfAdder(1, 0).items())[0][0][sBit] == '0' and list(halfAdder(1, 1).items())[0][0][cBit] == '0' and list(halfAdder(1, 1).items())[0][0][sBit] == '1':\n",
    "        print(\"Test passed!\")\n",
    "    else:\n",
    "        print(\"Test failed.\")\n",
    "\n",
    "adderTest(int(input(\"Which bit is your sum bit: \")), int(input(\"Which bit is your carry bit: \")))\n"
   ]
  }
 ],
 "metadata": {
  "kernelspec": {
   "display_name": "Python 3",
   "language": "python",
   "name": "python3"
  },
  "language_info": {
   "codemirror_mode": {
    "name": "ipython",
    "version": 3
   },
   "file_extension": ".py",
   "mimetype": "text/x-python",
   "name": "python",
   "nbconvert_exporter": "python",
   "pygments_lexer": "ipython3",
   "version": "3.11.1"
  },
  "orig_nbformat": 4,
  "vscode": {
   "interpreter": {
    "hash": "9dfd9ebe24fa0969d7ef00f868bd8f73af66f69d5ca5032d10e37f729c9dd31d"
   }
  }
 },
 "nbformat": 4,
 "nbformat_minor": 2
}
