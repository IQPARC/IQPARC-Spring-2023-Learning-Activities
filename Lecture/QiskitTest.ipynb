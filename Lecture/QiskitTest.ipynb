{
  "cells": [
    {
      "attachments": {},
      "cell_type": "markdown",
      "metadata": {},
      "source": [
        "# Running Qiskit on Microsoft Azure"
      ]
    },
    {
      "attachments": {},
      "cell_type": "markdown",
      "metadata": {},
      "source": [
        "To run Qiskit on Azure, addition to the normal qiskit libraries that you need to import, also import azure.quantum.qiskit for the dependencies needed. "
      ]
    },
    {
      "cell_type": "code",
      "execution_count": null,
      "metadata": {
        "jupyter": {
          "outputs_hidden": false,
          "source_hidden": false
        },
        "nteract": {
          "transient": {
            "deleting": false
          }
        }
      },
      "outputs": [],
      "source": [
        "from azure.quantum.qiskit import AzureQuantumProvider\n",
        "from qiskit import *\n",
        "from qiskit.visualization import plot_histogram, plot_bloch_multivector\n",
        "from qiskit.tools.monitor import job_monitor"
      ]
    },
    {
      "attachments": {},
      "cell_type": "markdown",
      "metadata": {},
      "source": [
        "We need to specify the provider, you can find the resource_id and the location in your Azure Quantum Workspace. You can simply hover over the two on the website and click on copy to clipboard. Paste the info into the double quotations. "
      ]
    },
    {
      "cell_type": "code",
      "execution_count": null,
      "metadata": {
        "jupyter": {
          "outputs_hidden": false,
          "source_hidden": false
        },
        "nteract": {
          "transient": {
            "deleting": false
          }
        }
      },
      "outputs": [],
      "source": [
        "provider = AzureQuantumProvider (\n",
        "   resource_id = \"\",\n",
        "   location = \"\"\n",
        ")"
      ]
    },
    {
      "attachments": {},
      "cell_type": "markdown",
      "metadata": {},
      "source": [
        "Make your own circuit using the qiskit syntax. "
      ]
    },
    {
      "cell_type": "code",
      "execution_count": null,
      "metadata": {
        "jupyter": {
          "outputs_hidden": false,
          "source_hidden": false
        },
        "nteract": {
          "transient": {
            "deleting": false
          }
        }
      },
      "outputs": [],
      "source": [
        "cq = QuantumCircuit(2,2)\n",
        "cq = QuantumCircuit(2)\n",
        "cq.h(0)\n",
        "# Applying the CNOT gate\n",
        "cq.cx(0,1)\n",
        "cq.cx(1,2)\n",
        "\n",
        "cq.draw()\n",
        "# This circuit will simply entangle the three qubits"
      ]
    },
    {
      "attachments": {},
      "cell_type": "markdown",
      "metadata": {},
      "source": [
        "Now we want to define the back end, and instead of using a simulator this time, we will use a real quantum computer, and in this case, we will be using IonQ's machine. And before you pick a backend, we want to see what is available for us to use. "
      ]
    },
    {
      "cell_type": "code",
      "execution_count": null,
      "metadata": {},
      "outputs": [],
      "source": [
        "for backend in provider.backends():\n",
        "    print(\"- \", backend.name())"
      ]
    },
    {
      "cell_type": "code",
      "execution_count": null,
      "metadata": {
        "jupyter": {
          "outputs_hidden": false,
          "source_hidden": false
        },
        "nteract": {
          "transient": {
            "deleting": false
          }
        }
      },
      "outputs": [],
      "source": [
        "qpu_backend = provider.get_backend(\"ionq.qpu\")"
      ]
    },
    {
      "attachments": {},
      "cell_type": "markdown",
      "metadata": {},
      "source": [
        "Now we are ready to excute the job"
      ]
    },
    {
      "cell_type": "code",
      "execution_count": null,
      "metadata": {
        "jupyter": {
          "outputs_hidden": false,
          "source_hidden": false
        },
        "nteract": {
          "transient": {
            "deleting": false
          }
        }
      },
      "outputs": [],
      "source": [
        "# Now we can create a job using the backend we just defined \n",
        "qpu_job = qpu_backend.run(cq, shots=1024)\n",
        "\n",
        "# Each job has its own id and you can see the id's in the job management page in your Quantum Workspace\n",
        "job_id = qpu_job.id()\n",
        "print(\"Job id:\", job_id)\n",
        "\n",
        "# To get updates on the job \n",
        "job_monitor(qpu_job)\n",
        "\n",
        "# Plotting the results \n",
        "results = qpu_job.result()\n",
        "print(results)\n",
        "counts = {format(n, \"02b\"): 0 for n in range(4)}\n",
        "\n",
        "counts.update(results.get_counts(cq))\n",
        "print(counts)\n",
        "plot_histogram(counts)"
      ]
    }
  ],
  "metadata": {
    "kernel_info": {
      "name": "python3"
    },
    "kernelspec": {
      "display_name": "Python 3",
      "language": "python",
      "name": "python3"
    },
    "language_info": {
      "codemirror_mode": {
        "name": "ipython",
        "version": 3
      },
      "file_extension": ".py",
      "mimetype": "text/x-python",
      "name": "python",
      "nbconvert_exporter": "python",
      "pygments_lexer": "ipython3",
      "version": "3.9.6"
    },
    "nteract": {
      "version": "nteract-front-end@1.0.0"
    },
    "vscode": {
      "interpreter": {
        "hash": "31f2aee4e71d21fbe5cf8b01ff0e069b9275f58929596ceb00d14d90e3e16cd6"
      }
    }
  },
  "nbformat": 4,
  "nbformat_minor": 0
}
