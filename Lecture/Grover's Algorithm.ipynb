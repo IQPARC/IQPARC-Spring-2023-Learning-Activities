{
 "cells": [
  {
   "attachments": {},
   "cell_type": "markdown",
   "metadata": {},
   "source": [
    "# Grover's Oracle\n",
    "\n",
    "The Grover's algorithm is used to serach through an unsorted search space of N elements, and it provides a quadratic speedup over its classical counter parts, the search can be done in O($\\sqrt2$) time. Today, we will investigate the Grover's algorithm. \n",
    "\n",
    "The formal problem statement of the search problem can be summarized as follows, \n",
    "Suppose we have a search space N = $2^n$, so the index of each element can be stored in n bits. Suppose we have a function f which takes integer input x, such that f(x) = 1 if x is a solutio to the serach problem, and f(x) = 0 if x is not a solution to the search problem. How exactly does this happen? This can be broken down into the following steps. \n",
    "\n",
    "1. Apply the Hadamard transformation on qubits for the first time\n",
    "2. Apply the oracle O\n",
    "3. Apply the Hadamard transformation on qubits for the second time\n",
    "4. Performing a conditional phase shift on the computer\n",
    "5. Apply the Hadamard transformation\n",
    "6. Measurements\n"
   ]
  },
  {
   "attachments": {},
   "cell_type": "markdown",
   "metadata": {},
   "source": [
    "### Two qubit Circuit"
   ]
  },
  {
   "cell_type": "code",
   "execution_count": 105,
   "metadata": {},
   "outputs": [],
   "source": [
    "from qiskit import *\n",
    "import matplotlib.pyplot as plot\n",
    "from numpy import * \n",
    "from qiskit.visualization import plot_histogram\n",
    "from qiskit.quantum_info.operators import Operator\n",
    "sim = Aer.get_backend('aer_simulator')"
   ]
  },
  {
   "cell_type": "code",
   "execution_count": 106,
   "metadata": {},
   "outputs": [
    {
     "data": {
      "text/html": [
       "<pre style=\"word-wrap: normal;white-space: pre;background: #fff0;line-height: 1.1;font-family: &quot;Courier New&quot;,Courier,monospace\">     ┌─────────┐\n",
       "q_0: ┤0        ├\n",
       "     │  oracle │\n",
       "q_1: ┤1        ├\n",
       "     └─────────┘</pre>"
      ],
      "text/plain": [
       "     ┌─────────┐\n",
       "q_0: ┤0        ├\n",
       "     │  oracle │\n",
       "q_1: ┤1        ├\n",
       "     └─────────┘"
      ]
     },
     "execution_count": 106,
     "metadata": {},
     "output_type": "execute_result"
    }
   ],
   "source": [
    "### Defining the oracle and creating a gate\n",
    "oracle = QuantumCircuit(2, name='oracle')\n",
    "\n",
    "c = Operator([\n",
    "    [1, 0, 0, 0],\n",
    "    [0, 1, 0, 0],\n",
    "    [0, 0, -1, 0],\n",
    "    [0, 0, 0, 1]\n",
    "])\n",
    "oracle.unitary(c, [0, 1], label='oracle')\n",
    "\n",
    "#oracle.cz(0,1)\n",
    "oracle.to_gate()\n",
    "oracle.draw()"
   ]
  },
  {
   "attachments": {},
   "cell_type": "markdown",
   "metadata": {},
   "source": [
    "What this gate looks like in the matrix is as follows\n",
    "\n",
    "$$Y = \\begin{bmatrix} 1 & 0 & 0 & 0\\\\ 0 & 1 & 0 & 0\\\\ 0 & 0 & 1 & 0\\\\ 0 & 0 & 0 & -1 \\end{bmatrix}$$\n",
    "\n",
    "What do you notice about this matrix? "
   ]
  },
  {
   "cell_type": "code",
   "execution_count": 107,
   "metadata": {},
   "outputs": [
    {
     "data": {
      "text/html": [
       "<pre style=\"word-wrap: normal;white-space: pre;background: #fff0;line-height: 1.1;font-family: &quot;Courier New&quot;,Courier,monospace\">     ┌───┐┌─────────┐\n",
       "q_0: ┤ H ├┤0        ├\n",
       "     ├───┤│  oracle │\n",
       "q_1: ┤ H ├┤1        ├\n",
       "     └───┘└─────────┘\n",
       "c: 2/════════════════\n",
       "                     </pre>"
      ],
      "text/plain": [
       "     ┌───┐┌─────────┐\n",
       "q_0: ┤ H ├┤0        ├\n",
       "     ├───┤│  oracle │\n",
       "q_1: ┤ H ├┤1        ├\n",
       "     └───┘└─────────┘\n",
       "c: 2/════════════════\n",
       "                     "
      ]
     },
     "execution_count": 107,
     "metadata": {},
     "output_type": "execute_result"
    }
   ],
   "source": [
    "### Completing step 1 and 2\n",
    "# We want to first apply the H gates to all qubits\n",
    "cq = QuantumCircuit(2,2)\n",
    "cq.h([0,1])\n",
    "cq.append(oracle, [0,1])\n",
    "cq.draw()"
   ]
  },
  {
   "cell_type": "code",
   "execution_count": 108,
   "metadata": {},
   "outputs": [
    {
     "data": {
      "image/png": "[encoded data removed]",
      "text/plain": [
       "<Figure size 700x500 with 1 Axes>"
      ]
     },
     "execution_count": 108,
     "metadata": {},
     "output_type": "execute_result"
    }
   ],
   "source": [
    "### Let's check the results\n",
    "cq.measure_all()\n",
    "qoj = transpile(cq,sim)\n",
    "counts = sim.run(qoj).result().get_counts()\n",
    "plot_histogram(counts)"
   ]
  },
  {
   "cell_type": "code",
   "execution_count": 109,
   "metadata": {},
   "outputs": [
    {
     "data": {
      "text/html": [
       "<pre style=\"word-wrap: normal;white-space: pre;background: #fff0;line-height: 1.1;font-family: &quot;Courier New&quot;,Courier,monospace\">     ┌───┐┌───┐   ┌───┐\n",
       "q_0: ┤ H ├┤ Z ├─■─┤ H ├\n",
       "     ├───┤├───┤ │ ├───┤\n",
       "q_1: ┤ H ├┤ Z ├─■─┤ H ├\n",
       "     └───┘└───┘   └───┘</pre>"
      ],
      "text/plain": [
       "     ┌───┐┌───┐   ┌───┐\n",
       "q_0: ┤ H ├┤ Z ├─■─┤ H ├\n",
       "     ├───┤├───┤ │ ├───┤\n",
       "q_1: ┤ H ├┤ Z ├─■─┤ H ├\n",
       "     └───┘└───┘   └───┘"
      ]
     },
     "execution_count": 109,
     "metadata": {},
     "output_type": "execute_result"
    }
   ],
   "source": [
    "### Diffuser (Step 3 to 5)\n",
    "diffuser = QuantumCircuit(2, name=\"diffuser\")\n",
    "diffuser.h([0,1])\n",
    "diffuser.z([0,1])\n",
    "diffuser.cz(0,1)\n",
    "diffuser.h([0,1])\n",
    "diffuser.to_gate()\n",
    "diffuser.draw()"
   ]
  },
  {
   "cell_type": "code",
   "execution_count": 110,
   "metadata": {},
   "outputs": [],
   "source": [
    "### Putting everything together and final measurement\n",
    "final_cq = QuantumCircuit(2,2)\n",
    "final_cq.h([0,1])\n",
    "final_cq.append(oracle,[0,1])\n",
    "final_cq.append(diffuser,[0,1])\n",
    "\n",
    "final_cq.measure_all()"
   ]
  },
  {
   "cell_type": "code",
   "execution_count": 111,
   "metadata": {},
   "outputs": [
    {
     "data": {
      "image/png": "[encoded data removed]",
      "text/plain": [
       "<Figure size 700x500 with 1 Axes>"
      ]
     },
     "execution_count": 111,
     "metadata": {},
     "output_type": "execute_result"
    }
   ],
   "source": [
    "qoj = transpile(final_cq,sim)\n",
    "counts = sim.run(qoj).result().get_counts()\n",
    "plot_histogram(counts)"
   ]
  },
  {
   "attachments": {},
   "cell_type": "markdown",
   "metadata": {},
   "source": [
    "### Practice\n",
    "\n",
    "Now that we have walked through how the circuit is built for a 2-qubit case. Can you try making the oracle for a 3-qubit and 4-qubit case? For example, an oracle that identifies the 111, an oracle that identifies the 1011. "
   ]
  }
 ],
 "metadata": {
  "kernelspec": {
   "display_name": "Python 3",
   "language": "python",
   "name": "python3"
  },
  "language_info": {
   "name": "python",
   "version": "3.9.6"
  },
  "orig_nbformat": 4,
  "vscode": {
   "interpreter": {
    "hash": "31f2aee4e71d21fbe5cf8b01ff0e069b9275f58929596ceb00d14d90e3e16cd6"
   }
  }
 },
 "nbformat": 4,
 "nbformat_minor": 2
}
